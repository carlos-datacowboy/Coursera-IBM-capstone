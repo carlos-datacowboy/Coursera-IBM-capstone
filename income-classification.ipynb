{
    "nbformat_minor": 1, 
    "cells": [
        {
            "execution_count": 1, 
            "cell_type": "code", 
            "metadata": {}, 
            "outputs": [], 
            "source": "import pandas as pd\nimport pylab as pl\nimport numpy as np\nimport scipy.optimize as opt\nfrom sklearn import preprocessing\n%matplotlib inline \nimport matplotlib.pyplot as plt"
        }, 
        {
            "source": "## Load Data\nThis dataset was extracted from the census bureau database found at\nhttp://www.census.gov/ftp/pub/DES/www/welcome.html\n\nThe goal is to create a classification model that predict which individuals will have an income greater than 50K and which individuals will have an income less than 50K based on different characteristics such as 'age', 'years of education', 'occupation', 'martial status', etc.", 
            "cell_type": "markdown", 
            "metadata": {}
        }, 
        {
            "execution_count": 2, 
            "cell_type": "code", 
            "metadata": {}, 
            "outputs": [
                {
                    "execution_count": 2, 
                    "metadata": {}, 
                    "data": {
                        "text/html": "<div>\n<style scoped>\n    .dataframe tbody tr th:only-of-type {\n        vertical-align: middle;\n    }\n\n    .dataframe tbody tr th {\n        vertical-align: top;\n    }\n\n    .dataframe thead th {\n        text-align: right;\n    }\n</style>\n<table border=\"1\" class=\"dataframe\">\n  <thead>\n    <tr style=\"text-align: right;\">\n      <th></th>\n      <th>Age</th>\n      <th>work-class</th>\n      <th>Income</th>\n      <th>Education</th>\n      <th>Education_years</th>\n      <th>Martial_Status</th>\n      <th>Occupation</th>\n      <th>Relationship</th>\n      <th>Race</th>\n      <th>Gender</th>\n      <th>Capital_Gain</th>\n      <th>Capital_Loss</th>\n      <th>Hours_per_week</th>\n      <th>Native_country</th>\n      <th>Class</th>\n    </tr>\n  </thead>\n  <tbody>\n    <tr>\n      <th>0</th>\n      <td>39</td>\n      <td>State-gov</td>\n      <td>77516</td>\n      <td>Bachelors</td>\n      <td>13</td>\n      <td>Never-married</td>\n      <td>Adm-clerical</td>\n      <td>Not-in-family</td>\n      <td>White</td>\n      <td>Male</td>\n      <td>2174</td>\n      <td>0</td>\n      <td>40</td>\n      <td>United-States</td>\n      <td>&lt;=50K</td>\n    </tr>\n    <tr>\n      <th>1</th>\n      <td>50</td>\n      <td>Self-emp-not-inc</td>\n      <td>83311</td>\n      <td>Bachelors</td>\n      <td>13</td>\n      <td>Married-civ-spouse</td>\n      <td>Exec-managerial</td>\n      <td>Husband</td>\n      <td>White</td>\n      <td>Male</td>\n      <td>0</td>\n      <td>0</td>\n      <td>13</td>\n      <td>United-States</td>\n      <td>&lt;=50K</td>\n    </tr>\n    <tr>\n      <th>2</th>\n      <td>38</td>\n      <td>Private</td>\n      <td>215646</td>\n      <td>HS-grad</td>\n      <td>9</td>\n      <td>Divorced</td>\n      <td>Handlers-cleaners</td>\n      <td>Not-in-family</td>\n      <td>White</td>\n      <td>Male</td>\n      <td>0</td>\n      <td>0</td>\n      <td>40</td>\n      <td>United-States</td>\n      <td>&lt;=50K</td>\n    </tr>\n    <tr>\n      <th>3</th>\n      <td>53</td>\n      <td>Private</td>\n      <td>234721</td>\n      <td>11th</td>\n      <td>7</td>\n      <td>Married-civ-spouse</td>\n      <td>Handlers-cleaners</td>\n      <td>Husband</td>\n      <td>Black</td>\n      <td>Male</td>\n      <td>0</td>\n      <td>0</td>\n      <td>40</td>\n      <td>United-States</td>\n      <td>&lt;=50K</td>\n    </tr>\n    <tr>\n      <th>4</th>\n      <td>28</td>\n      <td>Private</td>\n      <td>338409</td>\n      <td>Bachelors</td>\n      <td>13</td>\n      <td>Married-civ-spouse</td>\n      <td>Prof-specialty</td>\n      <td>Wife</td>\n      <td>Black</td>\n      <td>Female</td>\n      <td>0</td>\n      <td>0</td>\n      <td>40</td>\n      <td>Cuba</td>\n      <td>&lt;=50K</td>\n    </tr>\n  </tbody>\n</table>\n</div>", 
                        "text/plain": "   Age         work-class  Income   Education  Education_years  \\\n0   39          State-gov   77516   Bachelors               13   \n1   50   Self-emp-not-inc   83311   Bachelors               13   \n2   38            Private  215646     HS-grad                9   \n3   53            Private  234721        11th                7   \n4   28            Private  338409   Bachelors               13   \n\n        Martial_Status          Occupation    Relationship    Race   Gender  \\\n0        Never-married        Adm-clerical   Not-in-family   White     Male   \n1   Married-civ-spouse     Exec-managerial         Husband   White     Male   \n2             Divorced   Handlers-cleaners   Not-in-family   White     Male   \n3   Married-civ-spouse   Handlers-cleaners         Husband   Black     Male   \n4   Married-civ-spouse      Prof-specialty            Wife   Black   Female   \n\n   Capital_Gain  Capital_Loss  Hours_per_week  Native_country   Class  \n0          2174             0              40   United-States   <=50K  \n1             0             0              13   United-States   <=50K  \n2             0             0              40   United-States   <=50K  \n3             0             0              40   United-States   <=50K  \n4             0             0              40            Cuba   <=50K  "
                    }, 
                    "output_type": "execute_result"
                }
            ], 
            "source": "# The code was removed by Watson Studio for sharing."
        }, 
        {
            "source": "## Peform data exploration", 
            "cell_type": "markdown", 
            "metadata": {}
        }, 
        {
            "execution_count": 3, 
            "cell_type": "code", 
            "metadata": {}, 
            "outputs": [
                {
                    "execution_count": 3, 
                    "metadata": {}, 
                    "data": {
                        "text/plain": "(32561, 15)"
                    }, 
                    "output_type": "execute_result"
                }
            ], 
            "source": "# Here I want to know the shape of the data\ndf_census.shape"
        }, 
        {
            "execution_count": 4, 
            "cell_type": "code", 
            "metadata": {}, 
            "outputs": [
                {
                    "execution_count": 4, 
                    "metadata": {}, 
                    "data": {
                        "text/plain": "Index(['Age', 'work-class', 'Income', 'Education', 'Education_years',\n       'Martial_Status', 'Occupation', 'Relationship', 'Race', 'Gender',\n       'Capital_Gain', 'Capital_Loss', 'Hours_per_week', 'Native_country',\n       'Class'],\n      dtype='object')"
                    }, 
                    "output_type": "execute_result"
                }
            ], 
            "source": "# I want to see what the column names\ndf_census.columns"
        }, 
        {
            "execution_count": 5, 
            "cell_type": "code", 
            "metadata": {}, 
            "outputs": [
                {
                    "execution_count": 5, 
                    "metadata": {}, 
                    "data": {
                        "text/html": "<div>\n<style scoped>\n    .dataframe tbody tr th:only-of-type {\n        vertical-align: middle;\n    }\n\n    .dataframe tbody tr th {\n        vertical-align: top;\n    }\n\n    .dataframe thead th {\n        text-align: right;\n    }\n</style>\n<table border=\"1\" class=\"dataframe\">\n  <thead>\n    <tr style=\"text-align: right;\">\n      <th></th>\n      <th>Age</th>\n      <th>Income</th>\n      <th>Education_years</th>\n      <th>Capital_Gain</th>\n      <th>Capital_Loss</th>\n      <th>Hours_per_week</th>\n    </tr>\n  </thead>\n  <tbody>\n    <tr>\n      <th>count</th>\n      <td>32561.000000</td>\n      <td>3.256100e+04</td>\n      <td>32561.000000</td>\n      <td>32561.000000</td>\n      <td>32561.000000</td>\n      <td>32561.000000</td>\n    </tr>\n    <tr>\n      <th>mean</th>\n      <td>38.581647</td>\n      <td>1.897784e+05</td>\n      <td>10.080679</td>\n      <td>1077.648844</td>\n      <td>87.303830</td>\n      <td>40.437456</td>\n    </tr>\n    <tr>\n      <th>std</th>\n      <td>13.640433</td>\n      <td>1.055500e+05</td>\n      <td>2.572720</td>\n      <td>7385.292085</td>\n      <td>402.960219</td>\n      <td>12.347429</td>\n    </tr>\n    <tr>\n      <th>min</th>\n      <td>17.000000</td>\n      <td>1.228500e+04</td>\n      <td>1.000000</td>\n      <td>0.000000</td>\n      <td>0.000000</td>\n      <td>1.000000</td>\n    </tr>\n    <tr>\n      <th>25%</th>\n      <td>28.000000</td>\n      <td>1.178270e+05</td>\n      <td>9.000000</td>\n      <td>0.000000</td>\n      <td>0.000000</td>\n      <td>40.000000</td>\n    </tr>\n    <tr>\n      <th>50%</th>\n      <td>37.000000</td>\n      <td>1.783560e+05</td>\n      <td>10.000000</td>\n      <td>0.000000</td>\n      <td>0.000000</td>\n      <td>40.000000</td>\n    </tr>\n    <tr>\n      <th>75%</th>\n      <td>48.000000</td>\n      <td>2.370510e+05</td>\n      <td>12.000000</td>\n      <td>0.000000</td>\n      <td>0.000000</td>\n      <td>45.000000</td>\n    </tr>\n    <tr>\n      <th>max</th>\n      <td>90.000000</td>\n      <td>1.484705e+06</td>\n      <td>16.000000</td>\n      <td>99999.000000</td>\n      <td>4356.000000</td>\n      <td>99.000000</td>\n    </tr>\n  </tbody>\n</table>\n</div>", 
                        "text/plain": "                Age        Income  Education_years  Capital_Gain  \\\ncount  32561.000000  3.256100e+04     32561.000000  32561.000000   \nmean      38.581647  1.897784e+05        10.080679   1077.648844   \nstd       13.640433  1.055500e+05         2.572720   7385.292085   \nmin       17.000000  1.228500e+04         1.000000      0.000000   \n25%       28.000000  1.178270e+05         9.000000      0.000000   \n50%       37.000000  1.783560e+05        10.000000      0.000000   \n75%       48.000000  2.370510e+05        12.000000      0.000000   \nmax       90.000000  1.484705e+06        16.000000  99999.000000   \n\n       Capital_Loss  Hours_per_week  \ncount  32561.000000    32561.000000  \nmean      87.303830       40.437456  \nstd      402.960219       12.347429  \nmin        0.000000        1.000000  \n25%        0.000000       40.000000  \n50%        0.000000       40.000000  \n75%        0.000000       45.000000  \nmax     4356.000000       99.000000  "
                    }, 
                    "output_type": "execute_result"
                }
            ], 
            "source": "# I want to know the summary stats for each feature\ndf_census.describe()"
        }, 
        {
            "execution_count": 6, 
            "cell_type": "code", 
            "metadata": {}, 
            "outputs": [
                {
                    "execution_count": 6, 
                    "metadata": {}, 
                    "data": {
                        "text/plain": "       Education_years\ncount  1                     51.000000\n       2                    168.000000\n       3                    333.000000\n       4                    646.000000\n       5                    514.000000\n       6                    933.000000\n       7                   1175.000000\n       8                    433.000000\n       9                  10501.000000\n       10                  7291.000000\n       11                  1382.000000\n       12                  1067.000000\n       13                  5355.000000\n       14                  1723.000000\n       15                   576.000000\n       16                   413.000000\nmean   1                     42.764706\n       2                     46.142857\n       3                     42.885886\n       4                     48.445820\n       5                     41.060311\n       6                     37.429796\n       7                     32.355745\n       8                     32.000000\n       9                     38.974479\n       10                    35.756275\n       11                    38.553546\n       12                    37.381443\n       13                    38.904949\n       14                    44.049913\n                              ...     \n75%    3                     54.000000\n       4                     61.000000\n       5                     54.000000\n       6                     52.000000\n       7                     43.000000\n       8                     41.000000\n       9                     48.000000\n       10                    45.000000\n       11                    46.000000\n       12                    44.000000\n       13                    46.000000\n       14                    51.000000\n       15                    51.000000\n       16                    55.000000\nmax    1                     75.000000\n       2                     90.000000\n       3                     84.000000\n       4                     90.000000\n       5                     90.000000\n       6                     90.000000\n       7                     90.000000\n       8                     79.000000\n       9                     90.000000\n       10                    90.000000\n       11                    84.000000\n       12                    90.000000\n       13                    90.000000\n       14                    90.000000\n       15                    90.000000\n       16                    80.000000\nLength: 128, dtype: float64"
                    }, 
                    "output_type": "execute_result"
                }
            ], 
            "source": "# Here I wan to group by years of education and see descriptive stats and distribution for 'Age'\n# It's easier to read and analyze\n\ngrouped_age = df_census.groupby(['Education_years'])\ngrouped_age['Age'].describe().unstack()"
        }, 
        {
            "execution_count": 7, 
            "cell_type": "code", 
            "metadata": {}, 
            "outputs": [
                {
                    "execution_count": 7, 
                    "metadata": {}, 
                    "data": {
                        "text/plain": "       Education_years\ncount  1                  5.100000e+01\n       2                  1.680000e+02\n       3                  3.330000e+02\n       4                  6.460000e+02\n       5                  5.140000e+02\n       6                  9.330000e+02\n       7                  1.175000e+03\n       8                  4.330000e+02\n       9                  1.050100e+04\n       10                 7.291000e+03\n       11                 1.382000e+03\n       12                 1.067000e+03\n       13                 5.355000e+03\n       14                 1.723000e+03\n       15                 5.760000e+02\n       16                 4.130000e+02\nmean   1                  2.358894e+05\n       2                  2.393030e+05\n       3                  2.324483e+05\n       4                  1.880792e+05\n       5                  2.024851e+05\n       6                  1.968325e+05\n       7                  1.949281e+05\n       8                  1.990975e+05\n       9                  1.895387e+05\n       10                 1.887429e+05\n       11                 1.819360e+05\n       12                 1.934241e+05\n       13                 1.880559e+05\n       14                 1.798524e+05\n                              ...     \n75%    3                  2.898860e+05\n       4                  2.411608e+05\n       5                  2.449412e+05\n       6                  2.453170e+05\n       7                  2.466880e+05\n       8                  2.563710e+05\n       9                  2.337770e+05\n       10                 2.387580e+05\n       11                 2.324108e+05\n       12                 2.373745e+05\n       13                 2.345815e+05\n       14                 2.197895e+05\n       15                 2.297985e+05\n       16                 2.317410e+05\nmax    1                  5.727510e+05\n       2                  7.958300e+05\n       3                  6.840150e+05\n       4                  7.509720e+05\n       5                  7.587000e+05\n       6                  7.661150e+05\n       7                  8.063160e+05\n       8                  9.172200e+05\n       9                  1.268339e+06\n       10                 1.484705e+06\n       11                 1.366120e+06\n       12                 1.455435e+06\n       13                 1.226583e+06\n       14                 7.041080e+05\n       15                 7.477190e+05\n       16                 6.061110e+05\nLength: 128, dtype: float64"
                    }, 
                    "output_type": "execute_result"
                }
            ], 
            "source": "# I want to analyze at Income and Age \n\ngrouped_age = df_census.groupby(['Education_years'])\ngrouped_age['Income'].describe().unstack()"
        }, 
        {
            "execution_count": 8, 
            "cell_type": "code", 
            "metadata": {}, 
            "outputs": [
                {
                    "execution_count": 8, 
                    "metadata": {}, 
                    "data": {
                        "text/plain": "Age                 int64\nwork-class         object\nIncome              int64\nEducation          object\nEducation_years     int64\nMartial_Status     object\nOccupation         object\nRelationship       object\nRace               object\nGender             object\nCapital_Gain        int64\nCapital_Loss        int64\nHours_per_week      int64\nNative_country     object\nClass              object\ndtype: object"
                    }, 
                    "output_type": "execute_result"
                }
            ], 
            "source": "# I want to take a look at the type of features I'm working with\ndf_census.dtypes"
        }, 
        {
            "execution_count": 9, 
            "cell_type": "code", 
            "metadata": {}, 
            "outputs": [
                {
                    "execution_count": 9, 
                    "metadata": {}, 
                    "data": {
                        "text/plain": "Age                 int16\nwork-class         object\nIncome              int64\nEducation          object\nEducation_years     int32\nMartial_Status     object\nOccupation         object\nRelationship       object\nRace               object\nGender             object\nCapital_Gain        int64\nCapital_Loss        int64\nHours_per_week      int32\nNative_country     object\nClass              object\ndtype: object"
                    }, 
                    "output_type": "execute_result"
                }
            ], 
            "source": "# I want to start cleaning up the data\n# Also 'int64' might be unnecessary for 'Hours_per_week', 'Age', and 'Education_years', so I want to change it to 'int32' for computation efficiency\n\ndf_census.astype({'Hours_per_week': 'int32', 'Education_years': 'int32', 'Age': 'int16'}).dtypes"
        }, 
        {
            "execution_count": 10, 
            "cell_type": "code", 
            "metadata": {}, 
            "outputs": [
                {
                    "execution_count": 10, 
                    "metadata": {}, 
                    "data": {
                        "text/html": "<div>\n<style scoped>\n    .dataframe tbody tr th:only-of-type {\n        vertical-align: middle;\n    }\n\n    .dataframe tbody tr th {\n        vertical-align: top;\n    }\n\n    .dataframe thead th {\n        text-align: right;\n    }\n</style>\n<table border=\"1\" class=\"dataframe\">\n  <thead>\n    <tr style=\"text-align: right;\">\n      <th></th>\n      <th>Age</th>\n      <th>work-class</th>\n      <th>Income</th>\n      <th>Education</th>\n      <th>Education_years</th>\n      <th>Martial_Status</th>\n      <th>Occupation</th>\n      <th>Relationship</th>\n      <th>Race</th>\n      <th>Gender</th>\n      <th>Capital_Gain</th>\n      <th>Capital_Loss</th>\n      <th>Hours_per_week</th>\n      <th>Native_country</th>\n      <th>Class</th>\n    </tr>\n  </thead>\n  <tbody>\n    <tr>\n      <th>0</th>\n      <td>39</td>\n      <td>State-gov</td>\n      <td>77516</td>\n      <td>Bachelors</td>\n      <td>13</td>\n      <td>Never-married</td>\n      <td>Adm-clerical</td>\n      <td>Not-in-family</td>\n      <td>White</td>\n      <td>Male</td>\n      <td>2174.000000</td>\n      <td>87.30383</td>\n      <td>40</td>\n      <td>United-States</td>\n      <td>&lt;=50K</td>\n    </tr>\n    <tr>\n      <th>1</th>\n      <td>50</td>\n      <td>Self-emp-not-inc</td>\n      <td>83311</td>\n      <td>Bachelors</td>\n      <td>13</td>\n      <td>Married-civ-spouse</td>\n      <td>Exec-managerial</td>\n      <td>Husband</td>\n      <td>White</td>\n      <td>Male</td>\n      <td>1077.648844</td>\n      <td>87.30383</td>\n      <td>13</td>\n      <td>United-States</td>\n      <td>&lt;=50K</td>\n    </tr>\n    <tr>\n      <th>2</th>\n      <td>38</td>\n      <td>Private</td>\n      <td>215646</td>\n      <td>HS-grad</td>\n      <td>9</td>\n      <td>Divorced</td>\n      <td>Handlers-cleaners</td>\n      <td>Not-in-family</td>\n      <td>White</td>\n      <td>Male</td>\n      <td>1077.648844</td>\n      <td>87.30383</td>\n      <td>40</td>\n      <td>United-States</td>\n      <td>&lt;=50K</td>\n    </tr>\n    <tr>\n      <th>3</th>\n      <td>53</td>\n      <td>Private</td>\n      <td>234721</td>\n      <td>11th</td>\n      <td>7</td>\n      <td>Married-civ-spouse</td>\n      <td>Handlers-cleaners</td>\n      <td>Husband</td>\n      <td>Black</td>\n      <td>Male</td>\n      <td>1077.648844</td>\n      <td>87.30383</td>\n      <td>40</td>\n      <td>United-States</td>\n      <td>&lt;=50K</td>\n    </tr>\n    <tr>\n      <th>4</th>\n      <td>28</td>\n      <td>Private</td>\n      <td>338409</td>\n      <td>Bachelors</td>\n      <td>13</td>\n      <td>Married-civ-spouse</td>\n      <td>Prof-specialty</td>\n      <td>Wife</td>\n      <td>Black</td>\n      <td>Female</td>\n      <td>1077.648844</td>\n      <td>87.30383</td>\n      <td>40</td>\n      <td>Cuba</td>\n      <td>&lt;=50K</td>\n    </tr>\n  </tbody>\n</table>\n</div>", 
                        "text/plain": "   Age         work-class  Income   Education  Education_years  \\\n0   39          State-gov   77516   Bachelors               13   \n1   50   Self-emp-not-inc   83311   Bachelors               13   \n2   38            Private  215646     HS-grad                9   \n3   53            Private  234721        11th                7   \n4   28            Private  338409   Bachelors               13   \n\n        Martial_Status          Occupation    Relationship    Race   Gender  \\\n0        Never-married        Adm-clerical   Not-in-family   White     Male   \n1   Married-civ-spouse     Exec-managerial         Husband   White     Male   \n2             Divorced   Handlers-cleaners   Not-in-family   White     Male   \n3   Married-civ-spouse   Handlers-cleaners         Husband   Black     Male   \n4   Married-civ-spouse      Prof-specialty            Wife   Black   Female   \n\n   Capital_Gain  Capital_Loss  Hours_per_week  Native_country   Class  \n0   2174.000000      87.30383              40   United-States   <=50K  \n1   1077.648844      87.30383              13   United-States   <=50K  \n2   1077.648844      87.30383              40   United-States   <=50K  \n3   1077.648844      87.30383              40   United-States   <=50K  \n4   1077.648844      87.30383              40            Cuba   <=50K  "
                    }, 
                    "output_type": "execute_result"
                }
            ], 
            "source": "# I also noticed that 'Capital Gain' and 'Capital Loss' have quite a few zeros and large standard deviation, which could affect modeling\n# One option is to leave them alone and represent reality; however, it may contribute noise\n# Another option is to replace the zeros with the mean, which I'm choosing to do\n\ndf_census['Capital_Gain']=df_census['Capital_Gain'].replace(0,df_census['Capital_Gain'].mean())\ndf_census['Capital_Loss']=df_census['Capital_Loss'].replace(0,df_census['Capital_Loss'].mean())\ndf_census.head()\n"
        }, 
        {
            "execution_count": 11, 
            "cell_type": "code", 
            "metadata": {}, 
            "outputs": [
                {
                    "execution_count": 11, 
                    "metadata": {}, 
                    "data": {
                        "text/html": "<div>\n<style scoped>\n    .dataframe tbody tr th:only-of-type {\n        vertical-align: middle;\n    }\n\n    .dataframe tbody tr th {\n        vertical-align: top;\n    }\n\n    .dataframe thead th {\n        text-align: right;\n    }\n</style>\n<table border=\"1\" class=\"dataframe\">\n  <thead>\n    <tr style=\"text-align: right;\">\n      <th></th>\n      <th>Age</th>\n      <th>Income</th>\n      <th>Education_years</th>\n      <th>Capital_Gain</th>\n      <th>Capital_Loss</th>\n      <th>Hours_per_week</th>\n    </tr>\n  </thead>\n  <tbody>\n    <tr>\n      <th>count</th>\n      <td>32561.000000</td>\n      <td>3.256100e+04</td>\n      <td>32561.000000</td>\n      <td>32561.000000</td>\n      <td>32561.000000</td>\n      <td>32561.000000</td>\n    </tr>\n    <tr>\n      <th>mean</th>\n      <td>38.581647</td>\n      <td>1.897784e+05</td>\n      <td>10.080679</td>\n      <td>2065.540504</td>\n      <td>170.534857</td>\n      <td>40.437456</td>\n    </tr>\n    <tr>\n      <th>std</th>\n      <td>13.640433</td>\n      <td>1.055500e+05</td>\n      <td>2.572720</td>\n      <td>7245.822677</td>\n      <td>384.945075</td>\n      <td>12.347429</td>\n    </tr>\n    <tr>\n      <th>min</th>\n      <td>17.000000</td>\n      <td>1.228500e+04</td>\n      <td>1.000000</td>\n      <td>114.000000</td>\n      <td>87.303830</td>\n      <td>1.000000</td>\n    </tr>\n    <tr>\n      <th>25%</th>\n      <td>28.000000</td>\n      <td>1.178270e+05</td>\n      <td>9.000000</td>\n      <td>1077.648844</td>\n      <td>87.303830</td>\n      <td>40.000000</td>\n    </tr>\n    <tr>\n      <th>50%</th>\n      <td>37.000000</td>\n      <td>1.783560e+05</td>\n      <td>10.000000</td>\n      <td>1077.648844</td>\n      <td>87.303830</td>\n      <td>40.000000</td>\n    </tr>\n    <tr>\n      <th>75%</th>\n      <td>48.000000</td>\n      <td>2.370510e+05</td>\n      <td>12.000000</td>\n      <td>1077.648844</td>\n      <td>87.303830</td>\n      <td>45.000000</td>\n    </tr>\n    <tr>\n      <th>max</th>\n      <td>90.000000</td>\n      <td>1.484705e+06</td>\n      <td>16.000000</td>\n      <td>99999.000000</td>\n      <td>4356.000000</td>\n      <td>99.000000</td>\n    </tr>\n  </tbody>\n</table>\n</div>", 
                        "text/plain": "                Age        Income  Education_years  Capital_Gain  \\\ncount  32561.000000  3.256100e+04     32561.000000  32561.000000   \nmean      38.581647  1.897784e+05        10.080679   2065.540504   \nstd       13.640433  1.055500e+05         2.572720   7245.822677   \nmin       17.000000  1.228500e+04         1.000000    114.000000   \n25%       28.000000  1.178270e+05         9.000000   1077.648844   \n50%       37.000000  1.783560e+05        10.000000   1077.648844   \n75%       48.000000  2.370510e+05        12.000000   1077.648844   \nmax       90.000000  1.484705e+06        16.000000  99999.000000   \n\n       Capital_Loss  Hours_per_week  \ncount  32561.000000    32561.000000  \nmean     170.534857       40.437456  \nstd      384.945075       12.347429  \nmin       87.303830        1.000000  \n25%       87.303830       40.000000  \n50%       87.303830       40.000000  \n75%       87.303830       45.000000  \nmax     4356.000000       99.000000  "
                    }, 
                    "output_type": "execute_result"
                }
            ], 
            "source": "# Now I want to examine the summary stats again after adjusting the data\ndf_census.describe()"
        }, 
        {
            "execution_count": 12, 
            "cell_type": "code", 
            "metadata": {}, 
            "outputs": [
                {
                    "execution_count": 12, 
                    "metadata": {}, 
                    "data": {
                        "text/html": "<style  type=\"text/css\" >\n    #T_a16d4cca_c114_11e9_a9ff_e9fb3303972frow0_col0 {\n            background-color:  #b40426;\n            color:  #f1f1f1;\n        }    #T_a16d4cca_c114_11e9_a9ff_e9fb3303972frow0_col1 {\n            background-color:  #3b4cc0;\n            color:  #f1f1f1;\n        }    #T_a16d4cca_c114_11e9_a9ff_e9fb3303972frow0_col2 {\n            background-color:  #516ddb;\n            color:  #000000;\n        }    #T_a16d4cca_c114_11e9_a9ff_e9fb3303972frow0_col3 {\n            background-color:  #5977e3;\n            color:  #000000;\n        }    #T_a16d4cca_c114_11e9_a9ff_e9fb3303972frow0_col4 {\n            background-color:  #5470de;\n            color:  #000000;\n        }    #T_a16d4cca_c114_11e9_a9ff_e9fb3303972frow0_col5 {\n            background-color:  #5470de;\n            color:  #000000;\n        }    #T_a16d4cca_c114_11e9_a9ff_e9fb3303972frow1_col0 {\n            background-color:  #3b4cc0;\n            color:  #f1f1f1;\n        }    #T_a16d4cca_c114_11e9_a9ff_e9fb3303972frow1_col1 {\n            background-color:  #b40426;\n            color:  #f1f1f1;\n        }    #T_a16d4cca_c114_11e9_a9ff_e9fb3303972frow1_col2 {\n            background-color:  #3b4cc0;\n            color:  #f1f1f1;\n        }    #T_a16d4cca_c114_11e9_a9ff_e9fb3303972frow1_col3 {\n            background-color:  #4358cb;\n            color:  #f1f1f1;\n        }    #T_a16d4cca_c114_11e9_a9ff_e9fb3303972frow1_col4 {\n            background-color:  #3f53c6;\n            color:  #f1f1f1;\n        }    #T_a16d4cca_c114_11e9_a9ff_e9fb3303972frow1_col5 {\n            background-color:  #3b4cc0;\n            color:  #f1f1f1;\n        }    #T_a16d4cca_c114_11e9_a9ff_e9fb3303972frow2_col0 {\n            background-color:  #5a78e4;\n            color:  #000000;\n        }    #T_a16d4cca_c114_11e9_a9ff_e9fb3303972frow2_col1 {\n            background-color:  #4358cb;\n            color:  #f1f1f1;\n        }    #T_a16d4cca_c114_11e9_a9ff_e9fb3303972frow2_col2 {\n            background-color:  #b40426;\n            color:  #f1f1f1;\n        }    #T_a16d4cca_c114_11e9_a9ff_e9fb3303972frow2_col3 {\n            background-color:  #688aef;\n            color:  #000000;\n        }    #T_a16d4cca_c114_11e9_a9ff_e9fb3303972frow2_col4 {\n            background-color:  #5b7ae5;\n            color:  #000000;\n        }    #T_a16d4cca_c114_11e9_a9ff_e9fb3303972frow2_col5 {\n            background-color:  #6e90f2;\n            color:  #000000;\n        }    #T_a16d4cca_c114_11e9_a9ff_e9fb3303972frow3_col0 {\n            background-color:  #6687ed;\n            color:  #000000;\n        }    #T_a16d4cca_c114_11e9_a9ff_e9fb3303972frow3_col1 {\n            background-color:  #506bda;\n            color:  #000000;\n        }    #T_a16d4cca_c114_11e9_a9ff_e9fb3303972frow3_col2 {\n            background-color:  #6c8ff1;\n            color:  #000000;\n        }    #T_a16d4cca_c114_11e9_a9ff_e9fb3303972frow3_col3 {\n            background-color:  #b40426;\n            color:  #f1f1f1;\n        }    #T_a16d4cca_c114_11e9_a9ff_e9fb3303972frow3_col4 {\n            background-color:  #3b4cc0;\n            color:  #f1f1f1;\n        }    #T_a16d4cca_c114_11e9_a9ff_e9fb3303972frow3_col5 {\n            background-color:  #5875e1;\n            color:  #000000;\n        }    #T_a16d4cca_c114_11e9_a9ff_e9fb3303972frow4_col0 {\n            background-color:  #6282ea;\n            color:  #000000;\n        }    #T_a16d4cca_c114_11e9_a9ff_e9fb3303972frow4_col1 {\n            background-color:  #4c66d6;\n            color:  #000000;\n        }    #T_a16d4cca_c114_11e9_a9ff_e9fb3303972frow4_col2 {\n            background-color:  #5f7fe8;\n            color:  #000000;\n        }    #T_a16d4cca_c114_11e9_a9ff_e9fb3303972frow4_col3 {\n            background-color:  #3b4cc0;\n            color:  #f1f1f1;\n        }    #T_a16d4cca_c114_11e9_a9ff_e9fb3303972frow4_col4 {\n            background-color:  #b40426;\n            color:  #f1f1f1;\n        }    #T_a16d4cca_c114_11e9_a9ff_e9fb3303972frow4_col5 {\n            background-color:  #506bda;\n            color:  #000000;\n        }    #T_a16d4cca_c114_11e9_a9ff_e9fb3303972frow5_col0 {\n            background-color:  #6485ec;\n            color:  #000000;\n        }    #T_a16d4cca_c114_11e9_a9ff_e9fb3303972frow5_col1 {\n            background-color:  #4a63d3;\n            color:  #f1f1f1;\n        }    #T_a16d4cca_c114_11e9_a9ff_e9fb3303972frow5_col2 {\n            background-color:  #7597f6;\n            color:  #000000;\n        }    #T_a16d4cca_c114_11e9_a9ff_e9fb3303972frow5_col3 {\n            background-color:  #5a78e4;\n            color:  #000000;\n        }    #T_a16d4cca_c114_11e9_a9ff_e9fb3303972frow5_col4 {\n            background-color:  #536edd;\n            color:  #000000;\n        }    #T_a16d4cca_c114_11e9_a9ff_e9fb3303972frow5_col5 {\n            background-color:  #b40426;\n            color:  #f1f1f1;\n        }</style><table id=\"T_a16d4cca_c114_11e9_a9ff_e9fb3303972f\" ><thead>    <tr>        <th class=\"blank level0\" ></th>        <th class=\"col_heading level0 col0\" >Age</th>        <th class=\"col_heading level0 col1\" >Income</th>        <th class=\"col_heading level0 col2\" >Education_years</th>        <th class=\"col_heading level0 col3\" >Capital_Gain</th>        <th class=\"col_heading level0 col4\" >Capital_Loss</th>        <th class=\"col_heading level0 col5\" >Hours_per_week</th>    </tr></thead><tbody>\n                <tr>\n                        <th id=\"T_a16d4cca_c114_11e9_a9ff_e9fb3303972flevel0_row0\" class=\"row_heading level0 row0\" >Age</th>\n                        <td id=\"T_a16d4cca_c114_11e9_a9ff_e9fb3303972frow0_col0\" class=\"data row0 col0\" >1</td>\n                        <td id=\"T_a16d4cca_c114_11e9_a9ff_e9fb3303972frow0_col1\" class=\"data row0 col1\" >-0.077</td>\n                        <td id=\"T_a16d4cca_c114_11e9_a9ff_e9fb3303972frow0_col2\" class=\"data row0 col2\" >0.037</td>\n                        <td id=\"T_a16d4cca_c114_11e9_a9ff_e9fb3303972frow0_col3\" class=\"data row0 col3\" >0.074</td>\n                        <td id=\"T_a16d4cca_c114_11e9_a9ff_e9fb3303972frow0_col4\" class=\"data row0 col4\" >0.058</td>\n                        <td id=\"T_a16d4cca_c114_11e9_a9ff_e9fb3303972frow0_col5\" class=\"data row0 col5\" >0.069</td>\n            </tr>\n            <tr>\n                        <th id=\"T_a16d4cca_c114_11e9_a9ff_e9fb3303972flevel0_row1\" class=\"row_heading level0 row1\" >Income</th>\n                        <td id=\"T_a16d4cca_c114_11e9_a9ff_e9fb3303972frow1_col0\" class=\"data row1 col0\" >-0.077</td>\n                        <td id=\"T_a16d4cca_c114_11e9_a9ff_e9fb3303972frow1_col1\" class=\"data row1 col1\" >1</td>\n                        <td id=\"T_a16d4cca_c114_11e9_a9ff_e9fb3303972frow1_col2\" class=\"data row1 col2\" >-0.043</td>\n                        <td id=\"T_a16d4cca_c114_11e9_a9ff_e9fb3303972frow1_col3\" class=\"data row1 col3\" >0.00064</td>\n                        <td id=\"T_a16d4cca_c114_11e9_a9ff_e9fb3303972frow1_col4\" class=\"data row1 col4\" >-0.01</td>\n                        <td id=\"T_a16d4cca_c114_11e9_a9ff_e9fb3303972frow1_col5\" class=\"data row1 col5\" >-0.019</td>\n            </tr>\n            <tr>\n                        <th id=\"T_a16d4cca_c114_11e9_a9ff_e9fb3303972flevel0_row2\" class=\"row_heading level0 row2\" >Education_years</th>\n                        <td id=\"T_a16d4cca_c114_11e9_a9ff_e9fb3303972frow2_col0\" class=\"data row2 col0\" >0.037</td>\n                        <td id=\"T_a16d4cca_c114_11e9_a9ff_e9fb3303972frow2_col1\" class=\"data row2 col1\" >-0.043</td>\n                        <td id=\"T_a16d4cca_c114_11e9_a9ff_e9fb3303972frow2_col2\" class=\"data row2 col2\" >1</td>\n                        <td id=\"T_a16d4cca_c114_11e9_a9ff_e9fb3303972frow2_col3\" class=\"data row2 col3\" >0.12</td>\n                        <td id=\"T_a16d4cca_c114_11e9_a9ff_e9fb3303972frow2_col4\" class=\"data row2 col4\" >0.08</td>\n                        <td id=\"T_a16d4cca_c114_11e9_a9ff_e9fb3303972frow2_col5\" class=\"data row2 col5\" >0.15</td>\n            </tr>\n            <tr>\n                        <th id=\"T_a16d4cca_c114_11e9_a9ff_e9fb3303972flevel0_row3\" class=\"row_heading level0 row3\" >Capital_Gain</th>\n                        <td id=\"T_a16d4cca_c114_11e9_a9ff_e9fb3303972frow3_col0\" class=\"data row3 col0\" >0.074</td>\n                        <td id=\"T_a16d4cca_c114_11e9_a9ff_e9fb3303972frow3_col1\" class=\"data row3 col1\" >0.00064</td>\n                        <td id=\"T_a16d4cca_c114_11e9_a9ff_e9fb3303972frow3_col2\" class=\"data row3 col2\" >0.12</td>\n                        <td id=\"T_a16d4cca_c114_11e9_a9ff_e9fb3303972frow3_col3\" class=\"data row3 col3\" >1</td>\n                        <td id=\"T_a16d4cca_c114_11e9_a9ff_e9fb3303972frow3_col4\" class=\"data row3 col4\" >-0.029</td>\n                        <td id=\"T_a16d4cca_c114_11e9_a9ff_e9fb3303972frow3_col5\" class=\"data row3 col5\" >0.077</td>\n            </tr>\n            <tr>\n                        <th id=\"T_a16d4cca_c114_11e9_a9ff_e9fb3303972flevel0_row4\" class=\"row_heading level0 row4\" >Capital_Loss</th>\n                        <td id=\"T_a16d4cca_c114_11e9_a9ff_e9fb3303972frow4_col0\" class=\"data row4 col0\" >0.058</td>\n                        <td id=\"T_a16d4cca_c114_11e9_a9ff_e9fb3303972frow4_col1\" class=\"data row4 col1\" >-0.01</td>\n                        <td id=\"T_a16d4cca_c114_11e9_a9ff_e9fb3303972frow4_col2\" class=\"data row4 col2\" >0.08</td>\n                        <td id=\"T_a16d4cca_c114_11e9_a9ff_e9fb3303972frow4_col3\" class=\"data row4 col3\" >-0.029</td>\n                        <td id=\"T_a16d4cca_c114_11e9_a9ff_e9fb3303972frow4_col4\" class=\"data row4 col4\" >1</td>\n                        <td id=\"T_a16d4cca_c114_11e9_a9ff_e9fb3303972frow4_col5\" class=\"data row4 col5\" >0.054</td>\n            </tr>\n            <tr>\n                        <th id=\"T_a16d4cca_c114_11e9_a9ff_e9fb3303972flevel0_row5\" class=\"row_heading level0 row5\" >Hours_per_week</th>\n                        <td id=\"T_a16d4cca_c114_11e9_a9ff_e9fb3303972frow5_col0\" class=\"data row5 col0\" >0.069</td>\n                        <td id=\"T_a16d4cca_c114_11e9_a9ff_e9fb3303972frow5_col1\" class=\"data row5 col1\" >-0.019</td>\n                        <td id=\"T_a16d4cca_c114_11e9_a9ff_e9fb3303972frow5_col2\" class=\"data row5 col2\" >0.15</td>\n                        <td id=\"T_a16d4cca_c114_11e9_a9ff_e9fb3303972frow5_col3\" class=\"data row5 col3\" >0.077</td>\n                        <td id=\"T_a16d4cca_c114_11e9_a9ff_e9fb3303972frow5_col4\" class=\"data row5 col4\" >0.054</td>\n                        <td id=\"T_a16d4cca_c114_11e9_a9ff_e9fb3303972frow5_col5\" class=\"data row5 col5\" >1</td>\n            </tr>\n    </tbody></table>", 
                        "text/plain": "<pandas.io.formats.style.Styler at 0x7fbe75131a58>"
                    }, 
                    "output_type": "execute_result"
                }
            ], 
            "source": "# I want to examine feature corellation\n# 1 represents perfect positive correlation, using Pearson correlation\n# -1 represents perfect negative correlation, using Pearson correlation\ncorr = df_census.corr()\ncorr.style.background_gradient(cmap='coolwarm').set_precision(2)"
        }, 
        {
            "execution_count": 13, 
            "cell_type": "code", 
            "metadata": {}, 
            "outputs": [
                {
                    "execution_count": 13, 
                    "metadata": {}, 
                    "data": {
                        "text/plain": "Age                  int64\nwork-class          object\nIncome               int64\nEducation           object\nEducation_years      int64\nMartial_Status      object\nOccupation          object\nRelationship        object\nRace                object\nGender              object\nCapital_Gain       float64\nCapital_Loss       float64\nHours_per_week       int64\nNative_country      object\nClass               object\ndtype: object"
                    }, 
                    "output_type": "execute_result"
                }
            ], 
            "source": "df_census.astype({'Hours_per_week': 'int32', 'Education_years': 'int32', 'Age': 'int16', 'Capital_Gain': 'int64', 'Capital_Loss': 'int64'}).dtypes\ndf_census.dtypes"
        }, 
        {
            "source": "## Process data for Decision Tree", 
            "cell_type": "markdown", 
            "metadata": {}
        }, 
        {
            "execution_count": 38, 
            "cell_type": "code", 
            "metadata": {}, 
            "outputs": [
                {
                    "execution_count": 38, 
                    "metadata": {}, 
                    "data": {
                        "text/html": "<div>\n<style scoped>\n    .dataframe tbody tr th:only-of-type {\n        vertical-align: middle;\n    }\n\n    .dataframe tbody tr th {\n        vertical-align: top;\n    }\n\n    .dataframe thead th {\n        text-align: right;\n    }\n</style>\n<table border=\"1\" class=\"dataframe\">\n  <thead>\n    <tr style=\"text-align: right;\">\n      <th></th>\n      <th>Age</th>\n      <th>work-class</th>\n      <th>Income</th>\n      <th>Education</th>\n      <th>Education_years</th>\n      <th>Martial_Status</th>\n      <th>Occupation</th>\n      <th>Relationship</th>\n      <th>Race</th>\n      <th>Gender</th>\n      <th>Capital_Gain</th>\n      <th>Capital_Loss</th>\n      <th>Hours_per_week</th>\n      <th>Native_country</th>\n      <th>Class</th>\n    </tr>\n  </thead>\n  <tbody>\n    <tr>\n      <th>0</th>\n      <td>39</td>\n      <td>State-gov</td>\n      <td>77516</td>\n      <td>Bachelors</td>\n      <td>13</td>\n      <td>Never-married</td>\n      <td>Adm-clerical</td>\n      <td>Not-in-family</td>\n      <td>White</td>\n      <td>Male</td>\n      <td>2174.000000</td>\n      <td>87.30383</td>\n      <td>40</td>\n      <td>United-States</td>\n      <td>&lt;=50K</td>\n    </tr>\n    <tr>\n      <th>1</th>\n      <td>50</td>\n      <td>Self-emp-not-inc</td>\n      <td>83311</td>\n      <td>Bachelors</td>\n      <td>13</td>\n      <td>Married-civ-spouse</td>\n      <td>Exec-managerial</td>\n      <td>Husband</td>\n      <td>White</td>\n      <td>Male</td>\n      <td>1077.648844</td>\n      <td>87.30383</td>\n      <td>13</td>\n      <td>United-States</td>\n      <td>&lt;=50K</td>\n    </tr>\n    <tr>\n      <th>2</th>\n      <td>38</td>\n      <td>Private</td>\n      <td>215646</td>\n      <td>HS-grad</td>\n      <td>9</td>\n      <td>Divorced</td>\n      <td>Handlers-cleaners</td>\n      <td>Not-in-family</td>\n      <td>White</td>\n      <td>Male</td>\n      <td>1077.648844</td>\n      <td>87.30383</td>\n      <td>40</td>\n      <td>United-States</td>\n      <td>&lt;=50K</td>\n    </tr>\n    <tr>\n      <th>3</th>\n      <td>53</td>\n      <td>Private</td>\n      <td>234721</td>\n      <td>11th</td>\n      <td>7</td>\n      <td>Married-civ-spouse</td>\n      <td>Handlers-cleaners</td>\n      <td>Husband</td>\n      <td>Black</td>\n      <td>Male</td>\n      <td>1077.648844</td>\n      <td>87.30383</td>\n      <td>40</td>\n      <td>United-States</td>\n      <td>&lt;=50K</td>\n    </tr>\n    <tr>\n      <th>4</th>\n      <td>28</td>\n      <td>Private</td>\n      <td>338409</td>\n      <td>Bachelors</td>\n      <td>13</td>\n      <td>Married-civ-spouse</td>\n      <td>Prof-specialty</td>\n      <td>Wife</td>\n      <td>Black</td>\n      <td>Female</td>\n      <td>1077.648844</td>\n      <td>87.30383</td>\n      <td>40</td>\n      <td>Cuba</td>\n      <td>&lt;=50K</td>\n    </tr>\n  </tbody>\n</table>\n</div>", 
                        "text/plain": "   Age         work-class  Income   Education  Education_years  \\\n0   39          State-gov   77516   Bachelors               13   \n1   50   Self-emp-not-inc   83311   Bachelors               13   \n2   38            Private  215646     HS-grad                9   \n3   53            Private  234721        11th                7   \n4   28            Private  338409   Bachelors               13   \n\n        Martial_Status          Occupation    Relationship    Race   Gender  \\\n0        Never-married        Adm-clerical   Not-in-family   White     Male   \n1   Married-civ-spouse     Exec-managerial         Husband   White     Male   \n2             Divorced   Handlers-cleaners   Not-in-family   White     Male   \n3   Married-civ-spouse   Handlers-cleaners         Husband   Black     Male   \n4   Married-civ-spouse      Prof-specialty            Wife   Black   Female   \n\n   Capital_Gain  Capital_Loss  Hours_per_week  Native_country   Class  \n0   2174.000000      87.30383              40   United-States   <=50K  \n1   1077.648844      87.30383              13   United-States   <=50K  \n2   1077.648844      87.30383              40   United-States   <=50K  \n3   1077.648844      87.30383              40   United-States   <=50K  \n4   1077.648844      87.30383              40            Cuba   <=50K  "
                    }, 
                    "output_type": "execute_result"
                }
            ], 
            "source": "df_census.head()"
        }, 
        {
            "execution_count": 51, 
            "cell_type": "code", 
            "metadata": {}, 
            "outputs": [
                {
                    "execution_count": 51, 
                    "metadata": {}, 
                    "data": {
                        "text/plain": "Age                  int64\nwork-class          object\nIncome               int64\nEducation           object\nEducation_years      int64\nMartial_Status      object\nOccupation          object\nRelationship        object\nRace                object\nGender              object\nCapital_Gain       float64\nCapital_Loss       float64\nHours_per_week       int64\nNative_country      object\nClass               object\ndtype: object"
                    }, 
                    "output_type": "execute_result"
                }
            ], 
            "source": "df_census.dtypes"
        }, 
        {
            "execution_count": 63, 
            "cell_type": "code", 
            "metadata": {}, 
            "outputs": [
                {
                    "execution_count": 63, 
                    "metadata": {}, 
                    "data": {
                        "text/plain": "Age                   int64\nwork-class           object\nIncome                int64\nEducation            object\nEducation_years       int64\nMartial_Status       object\nOccupation           object\nRelationship         object\nRace                 object\nGender               object\nCapital_Gain        float64\nCapital_Loss        float64\nHours_per_week        int64\nNative_country       object\nClass              category\ndtype: object"
                    }, 
                    "output_type": "execute_result"
                }
            ], 
            "source": "df_census.astype({'Class': 'category'}).dtypes"
        }, 
        {
            "execution_count": 64, 
            "cell_type": "code", 
            "metadata": {}, 
            "outputs": [
                {
                    "execution_count": 64, 
                    "metadata": {}, 
                    "data": {
                        "text/plain": "array([' Never-married', ' Married-civ-spouse', ' Divorced',\n       ' Married-spouse-absent', ' Separated', ' Married-AF-spouse',\n       ' Widowed'], dtype=object)"
                    }, 
                    "output_type": "execute_result"
                }
            ], 
            "source": "df_census['Martial_Status'].unique()"
        }, 
        {
            "execution_count": 65, 
            "cell_type": "code", 
            "metadata": {}, 
            "outputs": [
                {
                    "execution_count": 65, 
                    "metadata": {}, 
                    "data": {
                        "text/plain": "array([' White', ' Black', ' Asian-Pac-Islander', ' Amer-Indian-Eskimo',\n       ' Other'], dtype=object)"
                    }, 
                    "output_type": "execute_result"
                }
            ], 
            "source": "df_census['Race'].unique()"
        }, 
        {
            "execution_count": 66, 
            "cell_type": "code", 
            "metadata": {}, 
            "outputs": [
                {
                    "execution_count": 66, 
                    "metadata": {}, 
                    "data": {
                        "text/plain": "array([' Male', ' Female'], dtype=object)"
                    }, 
                    "output_type": "execute_result"
                }
            ], 
            "source": "df_census['Gender'].unique()"
        }, 
        {
            "execution_count": 67, 
            "cell_type": "code", 
            "metadata": {}, 
            "outputs": [], 
            "source": "# Create predictors \nX = df_census[['Age', 'Income', 'work-class', 'Education_years', 'Race', 'Gender', 'Occupation', 'Martial_Status']]\n"
        }, 
        {
            "execution_count": 68, 
            "cell_type": "code", 
            "metadata": {}, 
            "outputs": [
                {
                    "execution_count": 68, 
                    "metadata": {}, 
                    "data": {
                        "text/plain": "Age                 int64\nIncome              int64\nwork-class         object\nEducation_years     int64\nRace               object\nGender             object\nOccupation         object\nMartial_Status     object\ndtype: object"
                    }, 
                    "output_type": "execute_result"
                }
            ], 
            "source": "X.dtypes"
        }, 
        {
            "execution_count": 69, 
            "cell_type": "code", 
            "metadata": {}, 
            "outputs": [
                {
                    "execution_count": 69, 
                    "metadata": {}, 
                    "data": {
                        "text/html": "<div>\n<style scoped>\n    .dataframe tbody tr th:only-of-type {\n        vertical-align: middle;\n    }\n\n    .dataframe tbody tr th {\n        vertical-align: top;\n    }\n\n    .dataframe thead th {\n        text-align: right;\n    }\n</style>\n<table border=\"1\" class=\"dataframe\">\n  <thead>\n    <tr style=\"text-align: right;\">\n      <th></th>\n      <th>Age</th>\n      <th>Income</th>\n      <th>Education_years</th>\n      <th>work-class_ Federal-gov</th>\n      <th>work-class_ Local-gov</th>\n      <th>work-class_ Never-worked</th>\n      <th>work-class_ Private</th>\n      <th>work-class_ Self-emp-inc</th>\n      <th>work-class_ Self-emp-not-inc</th>\n      <th>work-class_ State-gov</th>\n      <th>...</th>\n      <th>Occupation_ Protective-serv</th>\n      <th>Occupation_ Sales</th>\n      <th>Occupation_ Tech-support</th>\n      <th>Occupation_ Transport-moving</th>\n      <th>Martial_Status_ Married-AF-spouse</th>\n      <th>Martial_Status_ Married-civ-spouse</th>\n      <th>Martial_Status_ Married-spouse-absent</th>\n      <th>Martial_Status_ Never-married</th>\n      <th>Martial_Status_ Separated</th>\n      <th>Martial_Status_ Widowed</th>\n    </tr>\n  </thead>\n  <tbody>\n    <tr>\n      <th>0</th>\n      <td>39</td>\n      <td>77516</td>\n      <td>13</td>\n      <td>0</td>\n      <td>0</td>\n      <td>0</td>\n      <td>0</td>\n      <td>0</td>\n      <td>0</td>\n      <td>1</td>\n      <td>...</td>\n      <td>0</td>\n      <td>0</td>\n      <td>0</td>\n      <td>0</td>\n      <td>0</td>\n      <td>0</td>\n      <td>0</td>\n      <td>1</td>\n      <td>0</td>\n      <td>0</td>\n    </tr>\n    <tr>\n      <th>1</th>\n      <td>50</td>\n      <td>83311</td>\n      <td>13</td>\n      <td>0</td>\n      <td>0</td>\n      <td>0</td>\n      <td>0</td>\n      <td>0</td>\n      <td>1</td>\n      <td>0</td>\n      <td>...</td>\n      <td>0</td>\n      <td>0</td>\n      <td>0</td>\n      <td>0</td>\n      <td>0</td>\n      <td>1</td>\n      <td>0</td>\n      <td>0</td>\n      <td>0</td>\n      <td>0</td>\n    </tr>\n    <tr>\n      <th>2</th>\n      <td>38</td>\n      <td>215646</td>\n      <td>9</td>\n      <td>0</td>\n      <td>0</td>\n      <td>0</td>\n      <td>1</td>\n      <td>0</td>\n      <td>0</td>\n      <td>0</td>\n      <td>...</td>\n      <td>0</td>\n      <td>0</td>\n      <td>0</td>\n      <td>0</td>\n      <td>0</td>\n      <td>0</td>\n      <td>0</td>\n      <td>0</td>\n      <td>0</td>\n      <td>0</td>\n    </tr>\n    <tr>\n      <th>3</th>\n      <td>53</td>\n      <td>234721</td>\n      <td>7</td>\n      <td>0</td>\n      <td>0</td>\n      <td>0</td>\n      <td>1</td>\n      <td>0</td>\n      <td>0</td>\n      <td>0</td>\n      <td>...</td>\n      <td>0</td>\n      <td>0</td>\n      <td>0</td>\n      <td>0</td>\n      <td>0</td>\n      <td>1</td>\n      <td>0</td>\n      <td>0</td>\n      <td>0</td>\n      <td>0</td>\n    </tr>\n    <tr>\n      <th>4</th>\n      <td>28</td>\n      <td>338409</td>\n      <td>13</td>\n      <td>0</td>\n      <td>0</td>\n      <td>0</td>\n      <td>1</td>\n      <td>0</td>\n      <td>0</td>\n      <td>0</td>\n      <td>...</td>\n      <td>0</td>\n      <td>0</td>\n      <td>0</td>\n      <td>0</td>\n      <td>0</td>\n      <td>1</td>\n      <td>0</td>\n      <td>0</td>\n      <td>0</td>\n      <td>0</td>\n    </tr>\n  </tbody>\n</table>\n<p>5 rows \u00d7 36 columns</p>\n</div>", 
                        "text/plain": "   Age  Income  Education_years  work-class_ Federal-gov  \\\n0   39   77516               13                        0   \n1   50   83311               13                        0   \n2   38  215646                9                        0   \n3   53  234721                7                        0   \n4   28  338409               13                        0   \n\n   work-class_ Local-gov  work-class_ Never-worked  work-class_ Private  \\\n0                      0                         0                    0   \n1                      0                         0                    0   \n2                      0                         0                    1   \n3                      0                         0                    1   \n4                      0                         0                    1   \n\n   work-class_ Self-emp-inc  work-class_ Self-emp-not-inc  \\\n0                         0                             0   \n1                         0                             1   \n2                         0                             0   \n3                         0                             0   \n4                         0                             0   \n\n   work-class_ State-gov  ...  Occupation_ Protective-serv  Occupation_ Sales  \\\n0                      1  ...                            0                  0   \n1                      0  ...                            0                  0   \n2                      0  ...                            0                  0   \n3                      0  ...                            0                  0   \n4                      0  ...                            0                  0   \n\n   Occupation_ Tech-support  Occupation_ Transport-moving  \\\n0                         0                             0   \n1                         0                             0   \n2                         0                             0   \n3                         0                             0   \n4                         0                             0   \n\n   Martial_Status_ Married-AF-spouse  Martial_Status_ Married-civ-spouse  \\\n0                                  0                                   0   \n1                                  0                                   1   \n2                                  0                                   0   \n3                                  0                                   1   \n4                                  0                                   1   \n\n   Martial_Status_ Married-spouse-absent  Martial_Status_ Never-married  \\\n0                                      0                              1   \n1                                      0                              0   \n2                                      0                              0   \n3                                      0                              0   \n4                                      0                              0   \n\n   Martial_Status_ Separated  Martial_Status_ Widowed  \n0                          0                        0  \n1                          0                        0  \n2                          0                        0  \n3                          0                        0  \n4                          0                        0  \n\n[5 rows x 36 columns]"
                    }, 
                    "output_type": "execute_result"
                }
            ], 
            "source": "# Get dummies\nX = pd.get_dummies(X, prefix_sep='_', drop_first=True)\n# X head\nX.head()"
        }, 
        {
            "execution_count": 79, 
            "cell_type": "code", 
            "metadata": {}, 
            "outputs": [
                {
                    "execution_count": 79, 
                    "metadata": {}, 
                    "data": {
                        "text/plain": "array([' <=50K', ' >50K'], dtype=object)"
                    }, 
                    "output_type": "execute_result"
                }
            ], 
            "source": "# Create response vector and covert to np array\ny = df_census[\"Class\"].unique()\ny[0:5]"
        }, 
        {
            "execution_count": null, 
            "cell_type": "code", 
            "metadata": {}, 
            "outputs": [], 
            "source": ""
        }, 
        {
            "execution_count": null, 
            "cell_type": "code", 
            "metadata": {}, 
            "outputs": [], 
            "source": ""
        }, 
        {
            "execution_count": 31, 
            "cell_type": "code", 
            "metadata": {}, 
            "outputs": [
                {
                    "ename": "ValueError", 
                    "evalue": "y contains previously unseen labels: 77516", 
                    "traceback": [
                        "\u001b[0;31m---------------------------------------------------------------------------\u001b[0m", 
                        "\u001b[0;31mKeyError\u001b[0m                                  Traceback (most recent call last)", 
                        "\u001b[0;32m/opt/conda/envs/Python36/lib/python3.6/site-packages/sklearn/preprocessing/label.py\u001b[0m in \u001b[0;36m_encode_python\u001b[0;34m(values, uniques, encode)\u001b[0m\n\u001b[1;32m     67\u001b[0m         \u001b[0;32mtry\u001b[0m\u001b[0;34m:\u001b[0m\u001b[0;34m\u001b[0m\u001b[0;34m\u001b[0m\u001b[0m\n\u001b[0;32m---> 68\u001b[0;31m             \u001b[0mencoded\u001b[0m \u001b[0;34m=\u001b[0m \u001b[0mnp\u001b[0m\u001b[0;34m.\u001b[0m\u001b[0marray\u001b[0m\u001b[0;34m(\u001b[0m\u001b[0;34m[\u001b[0m\u001b[0mtable\u001b[0m\u001b[0;34m[\u001b[0m\u001b[0mv\u001b[0m\u001b[0;34m]\u001b[0m \u001b[0;32mfor\u001b[0m \u001b[0mv\u001b[0m \u001b[0;32min\u001b[0m \u001b[0mvalues\u001b[0m\u001b[0;34m]\u001b[0m\u001b[0;34m)\u001b[0m\u001b[0;34m\u001b[0m\u001b[0;34m\u001b[0m\u001b[0m\n\u001b[0m\u001b[1;32m     69\u001b[0m         \u001b[0;32mexcept\u001b[0m \u001b[0mKeyError\u001b[0m \u001b[0;32mas\u001b[0m \u001b[0me\u001b[0m\u001b[0;34m:\u001b[0m\u001b[0;34m\u001b[0m\u001b[0;34m\u001b[0m\u001b[0m\n", 
                        "\u001b[0;32m/opt/conda/envs/Python36/lib/python3.6/site-packages/sklearn/preprocessing/label.py\u001b[0m in \u001b[0;36m<listcomp>\u001b[0;34m(.0)\u001b[0m\n\u001b[1;32m     67\u001b[0m         \u001b[0;32mtry\u001b[0m\u001b[0;34m:\u001b[0m\u001b[0;34m\u001b[0m\u001b[0;34m\u001b[0m\u001b[0m\n\u001b[0;32m---> 68\u001b[0;31m             \u001b[0mencoded\u001b[0m \u001b[0;34m=\u001b[0m \u001b[0mnp\u001b[0m\u001b[0;34m.\u001b[0m\u001b[0marray\u001b[0m\u001b[0;34m(\u001b[0m\u001b[0;34m[\u001b[0m\u001b[0mtable\u001b[0m\u001b[0;34m[\u001b[0m\u001b[0mv\u001b[0m\u001b[0;34m]\u001b[0m \u001b[0;32mfor\u001b[0m \u001b[0mv\u001b[0m \u001b[0;32min\u001b[0m \u001b[0mvalues\u001b[0m\u001b[0;34m]\u001b[0m\u001b[0;34m)\u001b[0m\u001b[0;34m\u001b[0m\u001b[0;34m\u001b[0m\u001b[0m\n\u001b[0m\u001b[1;32m     69\u001b[0m         \u001b[0;32mexcept\u001b[0m \u001b[0mKeyError\u001b[0m \u001b[0;32mas\u001b[0m \u001b[0me\u001b[0m\u001b[0;34m:\u001b[0m\u001b[0;34m\u001b[0m\u001b[0;34m\u001b[0m\u001b[0m\n", 
                        "\u001b[0;31mKeyError\u001b[0m: 77516", 
                        "\nDuring handling of the above exception, another exception occurred:\n", 
                        "\u001b[0;31mValueError\u001b[0m                                Traceback (most recent call last)", 
                        "\u001b[0;32m<ipython-input-31-c07340f09d31>\u001b[0m in \u001b[0;36m<module>\u001b[0;34m\u001b[0m\n\u001b[1;32m      5\u001b[0m le_martial_status.fit(['Never-married', 'Married-civ-spouse', 'Divorced',\n\u001b[1;32m      6\u001b[0m        'Married-spouse-absent', 'Separated', 'Married-AF-spouse', 'Widowed'])\n\u001b[0;32m----> 7\u001b[0;31m \u001b[0mX\u001b[0m\u001b[0;34m[\u001b[0m\u001b[0;34m:\u001b[0m\u001b[0;34m,\u001b[0m\u001b[0;36m1\u001b[0m\u001b[0;34m]\u001b[0m \u001b[0;34m=\u001b[0m \u001b[0mle_martial_status\u001b[0m\u001b[0;34m.\u001b[0m\u001b[0mtransform\u001b[0m\u001b[0;34m(\u001b[0m\u001b[0mX\u001b[0m\u001b[0;34m[\u001b[0m\u001b[0;34m:\u001b[0m\u001b[0;34m,\u001b[0m\u001b[0;36m1\u001b[0m\u001b[0;34m]\u001b[0m\u001b[0;34m)\u001b[0m\u001b[0;34m\u001b[0m\u001b[0;34m\u001b[0m\u001b[0m\n\u001b[0m\u001b[1;32m      8\u001b[0m \u001b[0;34m\u001b[0m\u001b[0m\n\u001b[1;32m      9\u001b[0m \u001b[0;34m\u001b[0m\u001b[0m\n", 
                        "\u001b[0;32m/opt/conda/envs/Python36/lib/python3.6/site-packages/sklearn/preprocessing/label.py\u001b[0m in \u001b[0;36mtransform\u001b[0;34m(self, y)\u001b[0m\n\u001b[1;32m    255\u001b[0m             \u001b[0;32mreturn\u001b[0m \u001b[0mnp\u001b[0m\u001b[0;34m.\u001b[0m\u001b[0marray\u001b[0m\u001b[0;34m(\u001b[0m\u001b[0;34m[\u001b[0m\u001b[0;34m]\u001b[0m\u001b[0;34m)\u001b[0m\u001b[0;34m\u001b[0m\u001b[0;34m\u001b[0m\u001b[0m\n\u001b[1;32m    256\u001b[0m \u001b[0;34m\u001b[0m\u001b[0m\n\u001b[0;32m--> 257\u001b[0;31m         \u001b[0m_\u001b[0m\u001b[0;34m,\u001b[0m \u001b[0my\u001b[0m \u001b[0;34m=\u001b[0m \u001b[0m_encode\u001b[0m\u001b[0;34m(\u001b[0m\u001b[0my\u001b[0m\u001b[0;34m,\u001b[0m \u001b[0muniques\u001b[0m\u001b[0;34m=\u001b[0m\u001b[0mself\u001b[0m\u001b[0;34m.\u001b[0m\u001b[0mclasses_\u001b[0m\u001b[0;34m,\u001b[0m \u001b[0mencode\u001b[0m\u001b[0;34m=\u001b[0m\u001b[0;32mTrue\u001b[0m\u001b[0;34m)\u001b[0m\u001b[0;34m\u001b[0m\u001b[0;34m\u001b[0m\u001b[0m\n\u001b[0m\u001b[1;32m    258\u001b[0m         \u001b[0;32mreturn\u001b[0m \u001b[0my\u001b[0m\u001b[0;34m\u001b[0m\u001b[0;34m\u001b[0m\u001b[0m\n\u001b[1;32m    259\u001b[0m \u001b[0;34m\u001b[0m\u001b[0m\n", 
                        "\u001b[0;32m/opt/conda/envs/Python36/lib/python3.6/site-packages/sklearn/preprocessing/label.py\u001b[0m in \u001b[0;36m_encode\u001b[0;34m(values, uniques, encode)\u001b[0m\n\u001b[1;32m    106\u001b[0m     \"\"\"\n\u001b[1;32m    107\u001b[0m     \u001b[0;32mif\u001b[0m \u001b[0mvalues\u001b[0m\u001b[0;34m.\u001b[0m\u001b[0mdtype\u001b[0m \u001b[0;34m==\u001b[0m \u001b[0mobject\u001b[0m\u001b[0;34m:\u001b[0m\u001b[0;34m\u001b[0m\u001b[0;34m\u001b[0m\u001b[0m\n\u001b[0;32m--> 108\u001b[0;31m         \u001b[0;32mreturn\u001b[0m \u001b[0m_encode_python\u001b[0m\u001b[0;34m(\u001b[0m\u001b[0mvalues\u001b[0m\u001b[0;34m,\u001b[0m \u001b[0muniques\u001b[0m\u001b[0;34m,\u001b[0m \u001b[0mencode\u001b[0m\u001b[0;34m)\u001b[0m\u001b[0;34m\u001b[0m\u001b[0;34m\u001b[0m\u001b[0m\n\u001b[0m\u001b[1;32m    109\u001b[0m     \u001b[0;32melse\u001b[0m\u001b[0;34m:\u001b[0m\u001b[0;34m\u001b[0m\u001b[0;34m\u001b[0m\u001b[0m\n\u001b[1;32m    110\u001b[0m         \u001b[0;32mreturn\u001b[0m \u001b[0m_encode_numpy\u001b[0m\u001b[0;34m(\u001b[0m\u001b[0mvalues\u001b[0m\u001b[0;34m,\u001b[0m \u001b[0muniques\u001b[0m\u001b[0;34m,\u001b[0m \u001b[0mencode\u001b[0m\u001b[0;34m)\u001b[0m\u001b[0;34m\u001b[0m\u001b[0;34m\u001b[0m\u001b[0m\n", 
                        "\u001b[0;32m/opt/conda/envs/Python36/lib/python3.6/site-packages/sklearn/preprocessing/label.py\u001b[0m in \u001b[0;36m_encode_python\u001b[0;34m(values, uniques, encode)\u001b[0m\n\u001b[1;32m     69\u001b[0m         \u001b[0;32mexcept\u001b[0m \u001b[0mKeyError\u001b[0m \u001b[0;32mas\u001b[0m \u001b[0me\u001b[0m\u001b[0;34m:\u001b[0m\u001b[0;34m\u001b[0m\u001b[0;34m\u001b[0m\u001b[0m\n\u001b[1;32m     70\u001b[0m             raise ValueError(\"y contains previously unseen labels: %s\"\n\u001b[0;32m---> 71\u001b[0;31m                              % str(e))\n\u001b[0m\u001b[1;32m     72\u001b[0m         \u001b[0;32mreturn\u001b[0m \u001b[0muniques\u001b[0m\u001b[0;34m,\u001b[0m \u001b[0mencoded\u001b[0m\u001b[0;34m\u001b[0m\u001b[0;34m\u001b[0m\u001b[0m\n\u001b[1;32m     73\u001b[0m     \u001b[0;32melse\u001b[0m\u001b[0;34m:\u001b[0m\u001b[0;34m\u001b[0m\u001b[0;34m\u001b[0m\u001b[0m\n", 
                        "\u001b[0;31mValueError\u001b[0m: y contains previously unseen labels: 77516"
                    ], 
                    "output_type": "error"
                }
            ], 
            "source": "# Convert X features to numerical values\nfrom sklearn import preprocessing\n\nle_martial_status = preprocessing.LabelEncoder()\nle_martial_status.fit(['Never-married', 'Married-civ-spouse', 'Divorced',\n       'Married-spouse-absent', 'Separated', 'Married-AF-spouse', 'Widowed'])\nX[:,1] = le_martial_status.transform(X[:,1]) \n\n\nle_race = preprocessing.LabelEncoder()\nle_race.fit(['White', 'Black', 'Asian-Pac-Islander', 'Amer-Indian-Eskimo', 'Other'])\nX[:,2] = le_race.transform(X[:,2])\n\n\nle_gender = preprocessing.LabelEncoder()\nle_gender.fit([ 'Male', 'Female'])\nX[:,3] = le_gender.transform(X[:,3]) \n\nX[0:5]\n"
        }, 
        {
            "execution_count": null, 
            "cell_type": "code", 
            "metadata": {}, 
            "outputs": [], 
            "source": ""
        }
    ], 
    "metadata": {
        "kernelspec": {
            "display_name": "Python 3.6", 
            "name": "python3", 
            "language": "python"
        }, 
        "language_info": {
            "mimetype": "text/x-python", 
            "nbconvert_exporter": "python", 
            "version": "3.6.8", 
            "name": "python", 
            "file_extension": ".py", 
            "pygments_lexer": "ipython3", 
            "codemirror_mode": {
                "version": 3, 
                "name": "ipython"
            }
        }
    }, 
    "nbformat": 4
}